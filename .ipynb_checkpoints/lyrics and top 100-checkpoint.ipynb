{
 "cells": [
  {
   "cell_type": "code",
   "execution_count": 56,
   "metadata": {},
   "outputs": [],
   "source": [
    "import billboard\n",
    "import pandas as pd\n",
    "import datetime \n",
    "import json\n",
    "import requests"
   ]
  },
  {
   "cell_type": "code",
   "execution_count": 21,
   "metadata": {},
   "outputs": [],
   "source": [
    "chart = list(billboard.ChartData('hot-100'))"
   ]
  },
  {
   "cell_type": "code",
   "execution_count": 22,
   "metadata": {},
   "outputs": [
    {
     "name": "stdout",
     "output_type": "stream",
     "text": [
      "['God's Plan' by Drake, 'Meant To Be' by Bebe Rexha & Florida Georgia Line, 'Psycho' by Post Malone Featuring Ty Dolla $ign, 'Call Out My Name' by The Weeknd, 'Look Alive' by BlocBoy JB Featuring Drake, 'The Middle' by Zedd, Maren Morris & Grey, 'Perfect' by Ed Sheeran, 'Finesse' by Bruno Mars & Cardi B, 'Freaky Friday' by Lil Dicky Featuring Chris Brown, 'Walk It Talk It' by Migos Featuring Drake, 'Havana' by Camila Cabello Featuring Young Thug, 'Mine' by Bazzi, 'Plug Walk' by Rich The Kid, 'Never Be The Same' by Camila Cabello, 'Pray For Me' by The Weeknd & Kendrick Lamar, 'Be Careful' by Cardi B, 'Stir Fry' by Migos, 'Sad!' by XXXTentacion, 'All The Stars' by Kendrick Lamar & SZA, 'Ric Flair Drip' by Offset & Metro Boomin, 'Rockstar' by Post Malone Featuring 21 Savage, 'New Rules' by Dua Lipa, 'Whatever It Takes' by Imagine Dragons, 'Let You Down' by NF, 'Friends' by Marshmello & Anne-Marie, 'Try Me' by The Weeknd, 'Wasted Times' by The Weeknd, 'Heaven' by Kane Brown, 'Thunder' by Imagine Dragons, 'Wait' by Maroon 5, 'In My Blood' by Shawn Mendes, 'Him & I' by G-Eazy & Halsey, 'Lights Down Low' by MAX Featuring gnash, 'Powerglide' by Rae Sremmurd & Juicy J, 'I Was Never There' by The Weeknd Featuring Gesaffelstein, 'You Make It Easy' by Jason Aldean, 'Say Something' by Justin Timberlake Featuring Chris Stapleton, 'Feel It Still' by Portugal. The Man, 'I Fall Apart' by Post Malone, 'King's Dead' by Jay Rock, Kendrick Lamar, Future & James Blake, 'New Freezer' by Rich The Kid Featuring Kendrick Lamar, 'Bad At Love' by Halsey, 'Hurt You' by The Weeknd Featuring Gesaffelstein, 'Marry Me' by Thomas Rhett, 'Medicine' by Queen Naija, 'Delicate' by Taylor Swift, 'X' by Nicky Jam x J Balvin, 'Lemon' by N*E*R*D & Rihanna, 'Most People Are Good' by Luke Bryan, 'Singles You Up' by Jordan Davis, 'Bartier Cardi' by Cardi B Featuring 21 Savage, 'Privilege' by The Weeknd, 'Japan' by Famous Dex, 'Outside Today' by YoungBoy Never Broke Again, 'No Excuses' by Meghan Trainor, 'Love Lies' by Khalid & Normani, 'IDGAF' by Dua Lipa, 'Changes' by XXXTentacion, 'Dura' by Daddy Yankee, 'Billy' by 6ix9ine, 'Zombie' by Bad Wolves, 'Tell Me You Love Me' by Demi Lovato, 'El Farsante' by Ozuna & Romeo Santos, 'Broken Halos' by Chris Stapleton, 'The Long Way' by Brett Eldredge, 'Tequila' by Dan + Shay, 'One Number Away' by Luke Combs, 'Hardaway' by Derez De'Shon, 'Everyday' by Logic & Marshmello, 'Top Off' by DJ Khaled Featuring JAY Z, Future & B, 'Moonlight' by XXXTentacion, 'Sit Next To Me' by Foster The People, 'I Like Me Better' by Lauv, 'Sativa' by Jhene Aiko Featuring Swae Lee Or Rae Sremmurd, 'All On Me' by Devin Dawson, 'Five More Minutes' by Scotty McCreery, 'Red Roses' by Lil Skies Featuring Landon Cube, 'Boo'd Up' by Ella Mai, 'She's With Me' by High Valley, 'When We' by Tank, 'I Lived It' by Blake Shelton, 'Broken Clocks' by SZA, 'Up Down' by Morgan Wallen Featuring Florida Georgia Line, 'No Roots' by Alice Merton, 'Nowadays' by Lil Skies Featuring Landon Cube, 'Say Amen (Saturday Night)' by Panic! At The Disco, 'No Smoke' by YoungBoy Never Broke Again, 'Tempo' by Chris Brown, 'OKRA' by Tyler, The Creator, 'For The First Time' by Darius Rucker, 'Echame La Culpa' by Luis Fonsi & Demi Lovato, 'Take Back Home Girl' by Chris Lane Featuring Tori Kelly, 'Written In The Sand' by Old Dominion, 'Woman, Amen' by Dierks Bentley, 'La Modelo' by Ozuna x Cardi B, 'Proud' by 2 Chainz Featuring YG & Offset, 'Beautiful Trauma' by P!nk, 'NBAYoungboat' by Lil Yachty Featuring NBA YoungBoy, 'Get You' by Daniel Caesar Featuring Kali Uchis, 'Focus' by H.E.R.]\n"
     ]
    }
   ],
   "source": [
    "print(chart)"
   ]
  },
  {
   "cell_type": "code",
   "execution_count": 25,
   "metadata": {},
   "outputs": [
    {
     "data": {
      "text/html": [
       "<div>\n",
       "<style scoped>\n",
       "    .dataframe tbody tr th:only-of-type {\n",
       "        vertical-align: middle;\n",
       "    }\n",
       "\n",
       "    .dataframe tbody tr th {\n",
       "        vertical-align: top;\n",
       "    }\n",
       "\n",
       "    .dataframe thead th {\n",
       "        text-align: right;\n",
       "    }\n",
       "</style>\n",
       "<table border=\"1\" class=\"dataframe\">\n",
       "  <thead>\n",
       "    <tr style=\"text-align: right;\">\n",
       "      <th></th>\n",
       "      <th>0</th>\n",
       "    </tr>\n",
       "  </thead>\n",
       "  <tbody>\n",
       "    <tr>\n",
       "      <th>0</th>\n",
       "      <td>'God's Plan' by Drake</td>\n",
       "    </tr>\n",
       "    <tr>\n",
       "      <th>1</th>\n",
       "      <td>'Meant To Be' by Bebe Rexha &amp; Florida Georgia ...</td>\n",
       "    </tr>\n",
       "    <tr>\n",
       "      <th>2</th>\n",
       "      <td>'Psycho' by Post Malone Featuring Ty Dolla $ign</td>\n",
       "    </tr>\n",
       "    <tr>\n",
       "      <th>3</th>\n",
       "      <td>'Call Out My Name' by The Weeknd</td>\n",
       "    </tr>\n",
       "    <tr>\n",
       "      <th>4</th>\n",
       "      <td>'Look Alive' by BlocBoy JB Featuring Drake</td>\n",
       "    </tr>\n",
       "  </tbody>\n",
       "</table>\n",
       "</div>"
      ],
      "text/plain": [
       "                                                   0\n",
       "0                              'God's Plan' by Drake\n",
       "1  'Meant To Be' by Bebe Rexha & Florida Georgia ...\n",
       "2    'Psycho' by Post Malone Featuring Ty Dolla $ign\n",
       "3                   'Call Out My Name' by The Weeknd\n",
       "4         'Look Alive' by BlocBoy JB Featuring Drake"
      ]
     },
     "execution_count": 25,
     "metadata": {},
     "output_type": "execute_result"
    }
   ],
   "source": [
    "pd.DataFrame(data = chart).head()"
   ]
  },
  {
   "cell_type": "code",
   "execution_count": 24,
   "metadata": {},
   "outputs": [
    {
     "data": {
      "text/plain": [
       "list"
      ]
     },
     "execution_count": 24,
     "metadata": {},
     "output_type": "execute_result"
    }
   ],
   "source": [
    "type(chart)"
   ]
  },
  {
   "cell_type": "code",
   "execution_count": 54,
   "metadata": {},
   "outputs": [
    {
     "data": {
      "text/html": [
       "<div>\n",
       "<style scoped>\n",
       "    .dataframe tbody tr th:only-of-type {\n",
       "        vertical-align: middle;\n",
       "    }\n",
       "\n",
       "    .dataframe tbody tr th {\n",
       "        vertical-align: top;\n",
       "    }\n",
       "\n",
       "    .dataframe thead th {\n",
       "        text-align: right;\n",
       "    }\n",
       "</style>\n",
       "<table border=\"1\" class=\"dataframe\">\n",
       "  <thead>\n",
       "    <tr style=\"text-align: right;\">\n",
       "      <th></th>\n",
       "      <th>0</th>\n",
       "    </tr>\n",
       "  </thead>\n",
       "  <tbody>\n",
       "    <tr>\n",
       "      <th>0</th>\n",
       "      <td>'Poor Little Fool' by Ricky Nelson</td>\n",
       "    </tr>\n",
       "    <tr>\n",
       "      <th>1</th>\n",
       "      <td>'Patricia' by Perez Prado And His Orchestra</td>\n",
       "    </tr>\n",
       "    <tr>\n",
       "      <th>2</th>\n",
       "      <td>'Splish Splash' by Bobby Darin</td>\n",
       "    </tr>\n",
       "    <tr>\n",
       "      <th>3</th>\n",
       "      <td>'Hard Headed Woman' by Elvis Presley With The ...</td>\n",
       "    </tr>\n",
       "    <tr>\n",
       "      <th>4</th>\n",
       "      <td>'When' by Kalin Twins</td>\n",
       "    </tr>\n",
       "  </tbody>\n",
       "</table>\n",
       "</div>"
      ],
      "text/plain": [
       "                                                   0\n",
       "0                 'Poor Little Fool' by Ricky Nelson\n",
       "1        'Patricia' by Perez Prado And His Orchestra\n",
       "2                     'Splish Splash' by Bobby Darin\n",
       "3  'Hard Headed Woman' by Elvis Presley With The ...\n",
       "4                              'When' by Kalin Twins"
      ]
     },
     "execution_count": 54,
     "metadata": {},
     "output_type": "execute_result"
    }
   ],
   "source": [
    "pd.DataFrame(list(billboard.ChartData('hot-100', date = '1950-04-14'))).head()"
   ]
  },
  {
   "cell_type": "code",
   "execution_count": 63,
   "metadata": {},
   "outputs": [
    {
     "data": {
      "text/plain": [
       "{'lyrics': \"Turn your magic on, Umi she'd say\\r\\nEverything you want's a dream away\\r\\nWe are legends, every day\\r\\n\\nThat's what she told me\\r\\nTurn your magic on, to me she'd say\\nEverything you want's a dream away\\nUnder this pressure, under this weight\\nWe are diamonds \\n\\nI feel my heart beating\\nI feel my heart underneath my skin\\nI feel my heart beating\\nOh, you make me feel\\nLike I'm alive again\\n\\nAlive again!\\n\\nOh, you make me feel\\nLike I'm alive again\\n\\nSaid I can't go on, not in this way\\nI'm a dream that died by light of day\\nGonna hold up half the sky and say\\nOnly I own me\\n\\nI feel my heart beating\\nI feel my heart underneath my skin\\nOh, I can feel my heart beating\\n'Cause you make me feel\\nLike I'm alive again\\n\\nAlive again!\\n\\nOh, you make me feel\\nLike I'm alive again\\n\\nTurn your magic on, Umi she'd say\\nEverything you want's a dream away\\nUnder this pressure, under this weight\\nWe are diamonds taking shape\\nWe are diamonds taking shape\\n\\n(Woo, woo)\\n\\nIf we've only got this life\\nThis adventure, oh then I\\nAnd if we've only got this life\\nYou'll get me through alive\\nAnd if we've only got this life\\nIn this adventure, oh then I\\nWanna share it with you\\nWith you, with you\\nI said, oh, say oh\\n\\n(Woo hoo, woo hoo...)\"}"
      ]
     },
     "execution_count": 63,
     "metadata": {},
     "output_type": "execute_result"
    }
   ],
   "source": [
    "url = \"https://api.lyrics.ovh/v1/Coldplay/adventure of a lifetime\"\n",
    "a = requests.get(url).json()\n",
    "a"
   ]
  },
  {
   "cell_type": "code",
   "execution_count": 91,
   "metadata": {},
   "outputs": [],
   "source": [
    "artist = \"Ed Sheeran\"\n",
    "song = \"Shape of you\""
   ]
  },
  {
   "cell_type": "code",
   "execution_count": 92,
   "metadata": {},
   "outputs": [
    {
     "data": {
      "text/plain": [
       "{'lyrics': \"The club isn't the best place to find a lover so the bar is where I go\\r\\nMe and my friends at the table doing shots\\r\\nDrinking fast and then we talk slow\\r\\n\\nCome over and start up a conversation with just me \\r\\nAnd trust me I'll give it a chance now\\r\\nTake my hand, stop, put Van The Man on the jukebox\\nAnd then we start to dance and now I'm singing like\\n\\nGirl, you know I want your love\\nYour love was handmade for somebody like me\\nCome on now, follow my lead\\nI may be crazy, don't mind me\\nSay, boy, let's not talk too much\\nGrab on my waist and put that body on me\\nCome on now, follow my lead\\nCome, come on now, follow my lead\\n\\nI'm in love with the shape of you\\nWe push and pull like a magnet do\\nAlthough my heart is falling too\\nI'm in love with your body\\nAnd last night you were in my room\\nAnd now my bedsheets smell like you\\nEvery day discovering something brand new\\nI'm in love with your body (Oh\\x97i\\x97oh\\x97i\\x97oh\\x97i\\x97oh\\x97i)\\nI'm in love with your body (Oh\\x97i\\x97oh\\x97i\\x97oh\\x97i\\x97oh\\x97i)\\nI'm in love with your body (Oh\\x97i\\x97oh\\x97i\\x97oh\\x97i\\x97oh\\x97i)\\nI'm in love with your body\\nEvery day discovering something brand new\\nI'm in love with the shape of you\\n\\nOne week in we let the story begin, we're going out on our first date\\nYou and me are thrifty so go all you can eat\\nFill up your bag and I fill up a plate\\nWe talk for hours and hours about the sweet and the sour\\nAnd how your family is doing okay\\nLeave and get in a taxi, then kiss in the backseat\\nTell the driver make the radio play and I'm singing like\\n\\nGirl, you know I want your love\\nYour love was handmade for somebody like me\\nCome on now, follow my lead\\nI may be crazy, don't mind me\\nSay, boy, let's not talk too much\\nGrab on my waist and put that body on me\\nCome on now, follow my lead\\nCome, come on now, follow my lead\\n\\nI'm in love with the shape of you\\nWe push and pull like a magnet do\\nAlthough my heart is falling too\\nI'm in love with your body\\nAnd last night you were in my room\\nAnd now my bedsheets smell like you\\nEvery day discovering something brand new\\nI'm in love with your body (Oh\\x97i\\x97oh\\x97i\\x97oh\\x97i\\x97oh\\x97i)\\nI'm in love with your body (Oh\\x97i\\x97oh\\x97i\\x97oh\\x97i\\x97oh\\x97i)\\nI'm in love with your body (Oh\\x97i\\x97oh\\x97i\\x97oh\\x97i\\x97oh\\x97i)\\nI'm in love with your body\\nEvery day discovering something brand new\\nI'm in love with the shape of you\\n\\nCome on, be my baby, come on\\nCome on, be my baby, come on\\nCome on, be my baby, come on\\nCome on, be my baby, come on\\nCome on, be my baby, come on\\nCome on, be my baby, come on\\nCome on, be my baby, come on\\nCome on, be my baby, come on\\n\\nI'm in love with the shape of you\\nWe push and pull like a magnet do\\nAlthough my heart is falling too\\nI'm in love with your body\\nLast night you were in my room\\nAnd now my bedsheets smell like you\\nEvery day discovering something brand new\\nI'm in love with your body\\n\\nCome on, be my baby, come on\\nCome on, be my baby, come on (I'm in love with your body)\\nCome on, be my baby, come on\\nCome on, be my baby, come on (I'm in love with your body)\\nCome on, be my baby, come on\\nCome on, be my baby, come on (I'm in love with your body)\\nEvery day discovering something brand new\\nI'm in love with the shape of you\"}"
      ]
     },
     "execution_count": 92,
     "metadata": {},
     "output_type": "execute_result"
    }
   ],
   "source": [
    "url2 = f\"https://api.lyrics.ovh/v1/{artist}/{song}\"\n",
    "b = requests.get(url2).json()\n",
    "b"
   ]
  },
  {
   "cell_type": "code",
   "execution_count": null,
   "metadata": {},
   "outputs": [],
   "source": []
  }
 ],
 "metadata": {
  "kernelspec": {
   "display_name": "Python 3",
   "language": "python",
   "name": "python3"
  },
  "language_info": {
   "codemirror_mode": {
    "name": "ipython",
    "version": 3
   },
   "file_extension": ".py",
   "mimetype": "text/x-python",
   "name": "python",
   "nbconvert_exporter": "python",
   "pygments_lexer": "ipython3",
   "version": "3.6.4"
  }
 },
 "nbformat": 4,
 "nbformat_minor": 2
}
