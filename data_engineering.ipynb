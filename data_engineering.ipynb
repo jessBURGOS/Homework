{
 "cells": [
  {
   "cell_type": "code",
   "execution_count": 8,
   "metadata": {},
   "outputs": [],
   "source": [
    "import os \n",
    "from os import scandir\n",
    "import pandas as pd\n",
    "import numpy as np"
   ]
  },
  {
   "cell_type": "code",
   "execution_count": 9,
   "metadata": {},
   "outputs": [],
   "source": [
    "rootdir = os.getcwd()"
   ]
  },
  {
   "cell_type": "code",
   "execution_count": 3,
   "metadata": {},
   "outputs": [],
   "source": [
    "csvs= os.scandir(rootdir)\n",
    "csvs = list(csvs)"
   ]
  },
  {
   "cell_type": "code",
   "execution_count": 4,
   "metadata": {},
   "outputs": [],
   "source": [
    "#get csv\n",
    "for csv in csvs:\n",
    "    if csv.name.endswith('.csv'):\n",
    "        df =pd.read_csv(csv.path)\n",
    "        df.fillna(df.mean(), inplace =True)\n",
    "        df.to_csv(\"clean_\"+csv.name,index=False)   "
   ]
  },
  {
   "cell_type": "code",
   "execution_count": 7,
   "metadata": {},
   "outputs": [
    {
     "name": "stdout",
     "output_type": "stream",
     "text": [
      "<DirEntry 'hawaii_stations.csv'>\n",
      "<DirEntry 'Untitled1.ipynb'>\n",
      "<DirEntry '.DS_Store'>\n",
      "<DirEntry 'database_engineering.ipynb'>\n",
      "<DirEntry 'data_engineering.ipynb'>\n",
      "<DirEntry '.ipynb_checkpoints'>\n",
      "<DirEntry 'hawaii_measurements.csv'>\n"
     ]
    }
   ],
   "source": [
    "for csv in csvs:\n",
    "    print(csv)"
   ]
  },
  {
   "cell_type": "code",
   "execution_count": 6,
   "metadata": {},
   "outputs": [
    {
     "name": "stdout",
     "output_type": "stream",
     "text": [
      "Untitled1.ipynb               database_engineering.ipynb\r\n",
      "clean_hawaii_measurements.csv \u001b[31mhawaii_measurements.csv\u001b[m\u001b[m\r\n",
      "clean_hawaii_stations.csv     \u001b[31mhawaii_stations.csv\u001b[m\u001b[m\r\n",
      "data_engineering.ipynb\r\n"
     ]
    }
   ],
   "source": [
    "!ls"
   ]
  },
  {
   "cell_type": "code",
   "execution_count": null,
   "metadata": {},
   "outputs": [],
   "source": []
  }
 ],
 "metadata": {
  "kernelspec": {
   "display_name": "Python 3",
   "language": "python",
   "name": "python3"
  },
  "language_info": {
   "codemirror_mode": {
    "name": "ipython",
    "version": 3
   },
   "file_extension": ".py",
   "mimetype": "text/x-python",
   "name": "python",
   "nbconvert_exporter": "python",
   "pygments_lexer": "ipython3",
   "version": "3.6.4"
  }
 },
 "nbformat": 4,
 "nbformat_minor": 2
}
