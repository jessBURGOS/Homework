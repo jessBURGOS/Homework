{
 "cells": [
  {
   "cell_type": "markdown",
   "metadata": {},
   "source": [
    "# News Mood"
   ]
  },
  {
   "cell_type": "code",
   "execution_count": 1,
   "metadata": {},
   "outputs": [],
   "source": [
    "import tweepy\n",
    "import numpy as np\n",
    "import pandas as pd\n",
    "from datetime import datetime\n",
    "import matplotlib.pyplot as plt\n",
    "\n",
    "# Import and Initialize Sentiment Analyzer\n",
    "from vaderSentiment.vaderSentiment import SentimentIntensityAnalyzer\n",
    "analyzer = SentimentIntensityAnalyzer()\n",
    "\n",
    "# Twitter API Keys\n",
    "from config import (consumer_key, \n",
    "                    consumer_secret, \n",
    "                    access_token, \n",
    "                    access_token_secret)\n",
    "\n",
    "# Setup Tweepy API Authentication\n",
    "auth = tweepy.OAuthHandler(consumer_key, consumer_secret)\n",
    "auth.set_access_token(access_token, access_token_secret)\n",
    "api = tweepy.API(auth, wait_on_rate_limit=True)"
   ]
  },
  {
   "cell_type": "code",
   "execution_count": 2,
   "metadata": {},
   "outputs": [],
   "source": [
    "target_user = (\"@CNN\",\"@CBSNews\", \"@FoxNews\", \"@nytimes\",\"@BBC\")\n",
    "counter = 0\n",
    "n_results = 100\n",
    "sentiment_list= []\n",
    "name1 =[]\n",
    "name2 = []\n",
    "pos = []\n",
    "neg = []\n",
    "neu = []\n",
    "compound = []\n",
    "date = []\n",
    "text = []\n",
    "for target in target_user: \n",
    "   \n",
    "    for status in tweepy.Cursor(api.user_timeline, id=target ,tweet_mode=\"extended\",results ='recent').items(n_results):\n",
    "            tweet=status._json\n",
    "            results = analyzer.polarity_scores(tweet[\"full_text\"])\n",
    "            text.append(tweet[\"full_text\"])\n",
    "            pos.append(results['pos'])\n",
    "            neg.append(results['neg'])\n",
    "            neu.append(results['neu'])\n",
    "            compound.append(results['compound'])\n",
    "            name1.append(target)\n",
    "            name2.append(tweet['user']['name'])\n",
    "            date.append(pd.to_datetime(tweet[\"created_at\"]))\n",
    "            counter += 1\n",
    "        \n"
   ]
  },
  {
   "cell_type": "code",
   "execution_count": 3,
   "metadata": {},
   "outputs": [
    {
     "data": {
      "text/html": [
       "<div>\n",
       "<style scoped>\n",
       "    .dataframe tbody tr th:only-of-type {\n",
       "        vertical-align: middle;\n",
       "    }\n",
       "\n",
       "    .dataframe tbody tr th {\n",
       "        vertical-align: top;\n",
       "    }\n",
       "\n",
       "    .dataframe thead th {\n",
       "        text-align: right;\n",
       "    }\n",
       "</style>\n",
       "<table border=\"1\" class=\"dataframe\">\n",
       "  <thead>\n",
       "    <tr style=\"text-align: right;\">\n",
       "      <th></th>\n",
       "      <th>Compound</th>\n",
       "      <th>Date</th>\n",
       "      <th>Full Name</th>\n",
       "      <th>Full Text</th>\n",
       "      <th>Negative</th>\n",
       "      <th>Neutral</th>\n",
       "      <th>Positive</th>\n",
       "      <th>User</th>\n",
       "    </tr>\n",
       "  </thead>\n",
       "  <tbody>\n",
       "    <tr>\n",
       "      <th>0</th>\n",
       "      <td>-0.7906</td>\n",
       "      <td>2018-04-09 04:00:19</td>\n",
       "      <td>CNN</td>\n",
       "      <td>Son of former NHL player among those dead in C...</td>\n",
       "      <td>0.632</td>\n",
       "      <td>0.368</td>\n",
       "      <td>0.000</td>\n",
       "      <td>@CNN</td>\n",
       "    </tr>\n",
       "    <tr>\n",
       "      <th>1</th>\n",
       "      <td>-0.4019</td>\n",
       "      <td>2018-04-09 03:37:04</td>\n",
       "      <td>CNN</td>\n",
       "      <td>Deutsche Bank, Germany's biggest lender, is ge...</td>\n",
       "      <td>0.863</td>\n",
       "      <td>0.137</td>\n",
       "      <td>0.000</td>\n",
       "      <td>@CNN</td>\n",
       "    </tr>\n",
       "    <tr>\n",
       "      <th>2</th>\n",
       "      <td>0.5859</td>\n",
       "      <td>2018-04-09 03:30:06</td>\n",
       "      <td>CNN</td>\n",
       "      <td>16-year-old breaks Commonwealth Games record t...</td>\n",
       "      <td>0.759</td>\n",
       "      <td>0.000</td>\n",
       "      <td>0.241</td>\n",
       "      <td>@CNN</td>\n",
       "    </tr>\n",
       "    <tr>\n",
       "      <th>3</th>\n",
       "      <td>-0.5719</td>\n",
       "      <td>2018-04-09 03:13:55</td>\n",
       "      <td>CNN</td>\n",
       "      <td>\"A Quiet Place\" leads box office as horror kee...</td>\n",
       "      <td>0.764</td>\n",
       "      <td>0.236</td>\n",
       "      <td>0.000</td>\n",
       "      <td>@CNN</td>\n",
       "    </tr>\n",
       "    <tr>\n",
       "      <th>4</th>\n",
       "      <td>0.0000</td>\n",
       "      <td>2018-04-09 03:00:19</td>\n",
       "      <td>CNN</td>\n",
       "      <td>4 questions Congress must ask Facebook CEO Mar...</td>\n",
       "      <td>1.000</td>\n",
       "      <td>0.000</td>\n",
       "      <td>0.000</td>\n",
       "      <td>@CNN</td>\n",
       "    </tr>\n",
       "  </tbody>\n",
       "</table>\n",
       "</div>"
      ],
      "text/plain": [
       "   Compound                Date Full Name  \\\n",
       "0   -0.7906 2018-04-09 04:00:19       CNN   \n",
       "1   -0.4019 2018-04-09 03:37:04       CNN   \n",
       "2    0.5859 2018-04-09 03:30:06       CNN   \n",
       "3   -0.5719 2018-04-09 03:13:55       CNN   \n",
       "4    0.0000 2018-04-09 03:00:19       CNN   \n",
       "\n",
       "                                           Full Text  Negative  Neutral  \\\n",
       "0  Son of former NHL player among those dead in C...     0.632    0.368   \n",
       "1  Deutsche Bank, Germany's biggest lender, is ge...     0.863    0.137   \n",
       "2  16-year-old breaks Commonwealth Games record t...     0.759    0.000   \n",
       "3  \"A Quiet Place\" leads box office as horror kee...     0.764    0.236   \n",
       "4  4 questions Congress must ask Facebook CEO Mar...     1.000    0.000   \n",
       "\n",
       "   Positive  User  \n",
       "0     0.000  @CNN  \n",
       "1     0.000  @CNN  \n",
       "2     0.241  @CNN  \n",
       "3     0.000  @CNN  \n",
       "4     0.000  @CNN  "
      ]
     },
     "execution_count": 3,
     "metadata": {},
     "output_type": "execute_result"
    }
   ],
   "source": [
    "sentiment_df = pd.DataFrame({\n",
    "        \"User\": name1,\n",
    "        \"Full Name\": name2,\n",
    "        \"Compound\": compound,\n",
    "        \"Positive\": pos,\n",
    "        \"Neutral\": neg,\n",
    "        \"Negative\": neu,\n",
    "        \"Date\": date,\n",
    "        \"Full Text\": text})\n",
    "sentiment_df.to_csv(\"tweet_sentiment.csv\")\n",
    "sentiment_df.head()"
   ]
  },
  {
   "cell_type": "markdown",
   "metadata": {},
   "source": [
    "# Observation"
   ]
  },
  {
   "cell_type": "markdown",
   "metadata": {},
   "source": [
    "# Scatter plot"
   ]
  },
  {
   "cell_type": "markdown",
   "metadata": {},
   "source": [
    "Observation 1: The scatterplot alone does not show any obvious correlation. Thus, it's a good idea that we decided to do another kind of graph."
   ]
  },
  {
   "cell_type": "markdown",
   "metadata": {},
   "source": [
    "Observation 2: The New York Times' overall sentiment mean is almost close to zero. Suggesting that their word choice is the most neutral."
   ]
  },
  {
   "cell_type": "markdown",
   "metadata": {},
   "source": [
    "Observation 3: CBS overall sentiment mean is the most negative. This suggests that their word choice is the most negative."
   ]
  },
  {
   "cell_type": "code",
   "execution_count": 4,
   "metadata": {},
   "outputs": [
    {
     "data": {
      "image/png": "[encoded data removed]",
      "text/plain": [
       "<matplotlib.figure.Figure at 0x108302fd0>"
      ]
     },
     "metadata": {},
     "output_type": "display_data"
    }
   ],
   "source": [
    "plt.scatter(np.arange(-len(sentiment_df[sentiment_df['User'] == \"@CNN\"]),0,1),\n",
    "           sentiment_df[sentiment_df['User'] == \"@CNN\"]['Compound'], label = \"CNN\", color = 'red',edgecolor=\"black\")\n",
    "\n",
    "plt.scatter(np.arange(-len(sentiment_df[sentiment_df['User'] == \"@CBSNews\"]),0,1),\n",
    "           sentiment_df[sentiment_df['User'] == \"@CBSNews\"]['Compound'], label = \"CBSNews\",color = 'green',edgecolor=\"black\" )\n",
    "\n",
    "plt.scatter(np.arange(-len(sentiment_df[sentiment_df['User'] == \"@FoxNews\"]),0,1),\n",
    "           sentiment_df[sentiment_df['User'] == \"@FoxNews\"]['Compound'], label = \"Fox\",color = 'blue',edgecolor=\"black\")\n",
    "\n",
    "plt.scatter(np.arange(-len(sentiment_df[sentiment_df['User'] == \"@nytimes\"]),0,1),\n",
    "           sentiment_df[sentiment_df['User'] == \"@nytimes\"]['Compound'], label = \"New York Times\",color = 'gold',edgecolor=\"black\")\n",
    "\n",
    "plt.scatter(np.arange(-len(sentiment_df[sentiment_df['User'] == \"@BBC\"]),0,1),\n",
    "           sentiment_df[sentiment_df['User'] == \"@BBC\"]['Compound'], label = \"BBC\",color = 'lightblue',edgecolor=\"black\")\n",
    "\n",
    "plt.legend(bbox_to_anchor=(1, 1))\n",
    "plt.xticks([-100, -80,-60, -40, -20,0], [100, 80, 60, 40, 20,0])\n",
    "plt.ylim(-1, 1)\n",
    "plt.title(\"Sentiment Analysis of Media Tweets(4/8/2018)\")\n",
    "plt.ylabel(\"Tweets Ago\")\n",
    "plt.xlabel(\"Tweet Polarity\")\n",
    "plt.grid(True)\n",
    "\n",
    "plt.savefig(\"Sentiment Analysis.png\")\n",
    "plt.show()"
   ]
  },
  {
   "cell_type": "markdown",
   "metadata": {},
   "source": [
    "# Bar Graph"
   ]
  },
  {
   "cell_type": "code",
   "execution_count": 5,
   "metadata": {},
   "outputs": [
    {
     "name": "stderr",
     "output_type": "stream",
     "text": [
      "/Users/jessicaburgos/anaconda3/envs/PythonData/lib/python3.6/site-packages/matplotlib/figure.py:418: UserWarning: matplotlib is currently using a non-GUI backend, so cannot show the figure\n",
      "  \"matplotlib is currently using a non-GUI backend, \"\n"
     ]
    },
    {
     "data": {
      "image/png": "[encoded data removed]",
      "text/plain": [
       "<matplotlib.figure.Figure at 0x108302198>"
      ]
     },
     "metadata": {},
     "output_type": "display_data"
    }
   ],
   "source": [
    "sentiment_means = (sentiment_df[sentiment_df['User'] == \"@CNN\"]['Compound'].mean(), \n",
    "               sentiment_df[sentiment_df['User'] == \"@CBSNews\"]['Compound'].mean(), \n",
    "               sentiment_df[sentiment_df['User'] == \"@FoxNews\"]['Compound'].mean(), \n",
    "               sentiment_df[sentiment_df['User'] == \"@nytimes\"]['Compound'].mean(),\n",
    "               sentiment_df[sentiment_df['User'] == \"@BBC\"]['Compound'].mean())\n",
    "\n",
    "\n",
    "fig, ax = plt.subplots()\n",
    "ind = np.arange(len(sentiment_means))  \n",
    "width = 1\n",
    "cnn_mean = ax.bar(ind[0], sentiment_means[0], width, color='red',edgecolor=\"black\")\n",
    "cbs_mean = ax.bar(ind[1:], sentiment_means[1:], width, color='green',edgecolor=\"black\")\n",
    "fox_mean = ax.bar(ind[2:], sentiment_means[2:], width, color='blue',edgecolor=\"black\")\n",
    "ny_mean = ax.bar(ind[3:], sentiment_means[3:], width, color='gold',edgecolor=\"black\")\n",
    "bbc_mean = ax.bar(ind[4:], sentiment_means[4:], width, color='lightblue',edgecolor=\"black\")\n",
    "\n",
    "\n",
    "ax.set_ylabel('Tweet Polarity')\n",
    "ax.set_title('Overall Media Sentiment Based on Twitter 4/8/2018')\n",
    "ax.set_xticks(ind )\n",
    "ax.set_xticklabels(('CNN', 'CBS', 'Fox', 'NYT', 'BCC'))\n",
    "\n",
    "ax.set_autoscaley_on(False)\n",
    "ax.set_ylim([-.25,.1])\n",
    "\n",
    "plt.savefig(\"Overall Media Sentiment.png\")\n",
    "fig.show()"
   ]
  },
  {
   "cell_type": "code",
   "execution_count": 6,
   "metadata": {},
   "outputs": [
    {
     "data": {
      "text/plain": [
       "-0.000781999999999996"
      ]
     },
     "execution_count": 6,
     "metadata": {},
     "output_type": "execute_result"
    }
   ],
   "source": [
    "sentiment_df[sentiment_df['User'] == \"@nytimes\"]['Compound'].mean()"
   ]
  },
  {
   "cell_type": "code",
   "execution_count": null,
   "metadata": {},
   "outputs": [],
   "source": []
  }
 ],
 "metadata": {
  "kernelspec": {
   "display_name": "Python 3",
   "language": "python",
   "name": "python3"
  },
  "language_info": {
   "codemirror_mode": {
    "name": "ipython",
    "version": 3
   },
   "file_extension": ".py",
   "mimetype": "text/x-python",
   "name": "python",
   "nbconvert_exporter": "python",
   "pygments_lexer": "ipython3",
   "version": "3.6.4"
  }
 },
 "nbformat": 4,
 "nbformat_minor": 2
}
